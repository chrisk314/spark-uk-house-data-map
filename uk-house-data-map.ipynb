{
 "cells": [
  {
   "cell_type": "markdown",
   "metadata": {},
   "source": [
    "# Mapping UK data sets"
   ]
  },
  {
   "cell_type": "markdown",
   "metadata": {},
   "source": [
    "Import dependencies and create the Spark context"
   ]
  },
  {
   "cell_type": "code",
   "execution_count": 1,
   "metadata": {},
   "outputs": [],
   "source": [
    "from __future__ import print_function\n",
    "\n",
    "from pyspark import SparkConf, SparkContext\n",
    "from pyspark.sql import SparkSession\n",
    "from pyspark.sql.functions import udf, struct, count, col, isnan, when, year, month\n",
    "from pyspark.sql.types import BooleanType, IntegerType, FloatType, DateType, StringType\n",
    "\n",
    "import os\n",
    "import sys\n",
    "from datetime import datetime\n",
    "if sys.version_info.major == 2:\n",
    "    from pathlib2 import Path\n",
    "else:\n",
    "    from pathlib import Path\n",
    "from pprint import pprint\n",
    "\n",
    "import numpy as np\n",
    "import pandas as pd\n",
    "import pyproj\n",
    "import shapefile as shp\n",
    "from matplotlib import pyplot as plt\n",
    "from matplotlib import colorbar, colors\n",
    "from matplotlib.collections import PatchCollection\n",
    "from matplotlib.patches import Polygon, Rectangle\n",
    "from matplotlib.text import Annotation\n",
    "from tabulate import tabulate\n",
    "\n",
    "plt.rcParams['figure.dpi'] = 100\n",
    "\n",
    "spark = SparkSession.builder.appName(\"uk_data_mapping\").config(conf=SparkConf()).getOrCreate()"
   ]
  },
  {
   "cell_type": "markdown",
   "metadata": {},
   "source": [
    "Current Spark configuration"
   ]
  },
  {
   "cell_type": "code",
   "execution_count": 2,
   "metadata": {},
   "outputs": [
    {
     "data": {
      "text/plain": [
       "[('spark.driver.port', '40153'),\n",
       " ('spark.driver.host', '192.168.1.8'),\n",
       " ('spark.default.parallelism', '64'),\n",
       " ('spark.executor.id', 'driver'),\n",
       " ('spark.task.maxFailures', '1'),\n",
       " ('spark.driver.memory', '1g'),\n",
       " ('spark.app.name', 'PySparkShell'),\n",
       " ('spark.app.id', 'local-1540577348716'),\n",
       " ('spark.pyspark.python', '/usr/bin/python3.6'),\n",
       " ('spark.sql.catalogImplementation', 'hive'),\n",
       " ('spark.local.dir', '/media/csk13/d/scratch'),\n",
       " ('spark.rdd.compress', 'True'),\n",
       " ('spark.serializer.objectStreamReset', '100'),\n",
       " ('spark.master', 'local[*]'),\n",
       " ('spark.submit.deployMode', 'client'),\n",
       " ('spark.ui.showConsoleProgress', 'true')]"
      ]
     },
     "execution_count": 2,
     "metadata": {},
     "output_type": "execute_result"
    }
   ],
   "source": [
    "sc = SparkContext.getOrCreate()\n",
    "sc._conf.getAll()"
   ]
  },
  {
   "cell_type": "markdown",
   "metadata": {},
   "source": [
    "---"
   ]
  },
  {
   "cell_type": "markdown",
   "metadata": {},
   "source": [
    "## Ordinance Survey Boundary-Line data set\n",
    "The boundary line data set contains `.shp` _shapefiles_ which store the shapes of various UK administrative regions along with data associated with each region. The data set is freely available and can be [downloaded](https://www.ordnancesurvey.co.uk/business-and-government/products/boundary-line.html) from the ordinance survey website."
   ]
  },
  {
   "cell_type": "code",
   "execution_count": 56,
   "metadata": {},
   "outputs": [
    {
     "name": "stdout",
     "output_type": "stream",
     "text": [
      "\u001b[01;34m/home/csk13/src/uk-data-mapping/bdline/Data/GB\u001b[00m\n",
      "├── county_electoral_division_region.dbf\n",
      "├── county_electoral_division_region.prj\n",
      "├── county_electoral_division_region.shp\n",
      "├── county_electoral_division_region.shx\n",
      "├── county_region.dbf\n",
      "├── county_region.prj\n",
      "├── county_region.shp\n",
      "├── county_region.shx\n",
      "├── district_borough_unitary_region.dbf\n",
      "├── district_borough_unitary_region.prj\n",
      "├── district_borough_unitary_region.shp\n",
      "├── district_borough_unitary_region.shx\n",
      "├── district_borough_unitary_ward_region.dbf\n",
      "├── district_borough_unitary_ward_region.prj\n",
      "├── district_borough_unitary_ward_region.shp\n",
      "├── district_borough_unitary_ward_region.shx\n",
      "├── european_region_region.dbf\n",
      "├── european_region_region.prj\n",
      "├── european_region_region.shp\n",
      "├── european_region_region.shx\n",
      "├── greater_london_const_region.dbf\n",
      "├── greater_london_const_region.prj\n",
      "├── greater_london_const_region.shp\n",
      "├── greater_london_const_region.shx\n",
      "├── high_water_polyline.dbf\n",
      "├── high_water_polyline.prj\n",
      "├── high_water_polyline.shp\n",
      "├── high_water_polyline.shx\n",
      "├── parish_region.dbf\n",
      "├── parish_region.prj\n",
      "├── parish_region.shp\n",
      "├── parish_region.shx\n",
      "├── scotland_and_wales_const_region.dbf\n",
      "├── scotland_and_wales_const_region.prj\n",
      "├── scotland_and_wales_const_region.shp\n",
      "├── scotland_and_wales_const_region.shx\n",
      "├── scotland_and_wales_region_region.dbf\n",
      "├── scotland_and_wales_region_region.prj\n",
      "├── scotland_and_wales_region_region.shp\n",
      "├── scotland_and_wales_region_region.shx\n",
      "├── unitary_electoral_division_region.dbf\n",
      "├── unitary_electoral_division_region.prj\n",
      "├── unitary_electoral_division_region.shp\n",
      "├── unitary_electoral_division_region.shx\n",
      "├── westminster_const_region.dbf\n",
      "├── westminster_const_region.prj\n",
      "├── westminster_const_region.shp\n",
      "└── westminster_const_region.shx\n",
      "\n",
      "0 directories, 48 files\n"
     ]
    }
   ],
   "source": [
    "!tree ${DATA_BDLINE}/Data/GB"
   ]
  },
  {
   "cell_type": "markdown",
   "metadata": {},
   "source": [
    "Let's take a look at the `district_borough_unitary_region` data set"
   ]
  },
  {
   "cell_type": "code",
   "execution_count": 6,
   "metadata": {},
   "outputs": [],
   "source": [
    "BDLINE_DIR = os.getenv('DATA_BDLINE')\n",
    "BDLINE_DISTRICT_CSV = os.path.join(BDLINE_DIR, 'Data/GB/district_borough_unitary_region.shp')\n",
    "BDLINE_COUNTY_CSV = os.path.join(BDLINE_DIR, 'Data/Supplementary_Ceremonial/Boundary-line-ceremonial-counties_region.shp')\n",
    "BDLINE_LONDON_CSV = os.path.join(BDLINE_DIR, 'Data/GB/greater_london_const_region.shp')"
   ]
  },
  {
   "cell_type": "code",
   "execution_count": 7,
   "metadata": {},
   "outputs": [],
   "source": [
    "sf_district = shp.Reader(BDLINE_DISTRICT_CSV)"
   ]
  },
  {
   "cell_type": "markdown",
   "metadata": {},
   "source": [
    "Available fields in the shapefile data"
   ]
  },
  {
   "cell_type": "code",
   "execution_count": 8,
   "metadata": {},
   "outputs": [
    {
     "data": {
      "text/plain": [
       "[('DeletionFlag', 'C', 1, 0),\n",
       " ['NAME', 'C', 60, 0],\n",
       " ['AREA_CODE', 'C', 3, 0],\n",
       " ['DESCRIPTIO', 'C', 50, 0],\n",
       " ['FILE_NAME', 'C', 50, 0],\n",
       " ['NUMBER', 'N', 11, 0],\n",
       " ['NUMBER0', 'N', 11, 0],\n",
       " ['POLYGON_ID', 'N', 11, 0],\n",
       " ['UNIT_ID', 'N', 11, 0],\n",
       " ['CODE', 'C', 9, 0],\n",
       " ['HECTARES', 'N', 12, 3],\n",
       " ['AREA', 'N', 12, 3],\n",
       " ['TYPE_CODE', 'C', 2, 0],\n",
       " ['DESCRIPT0', 'C', 25, 0],\n",
       " ['TYPE_COD0', 'C', 3, 0],\n",
       " ['DESCRIPT1', 'C', 36, 0]]"
      ]
     },
     "execution_count": 8,
     "metadata": {},
     "output_type": "execute_result"
    }
   ],
   "source": [
    "sf_district.fields"
   ]
  },
  {
   "cell_type": "markdown",
   "metadata": {},
   "source": [
    "Let's take a look at the first record"
   ]
  },
  {
   "cell_type": "code",
   "execution_count": 9,
   "metadata": {},
   "outputs": [
    {
     "data": {
      "text/plain": [
       "['Wycombe District',\n",
       " 'DIS',\n",
       " 'District',\n",
       " 'BUCKINGHAMSHIRE_COUNTY',\n",
       " 5,\n",
       " 377,\n",
       " 51844,\n",
       " 11882,\n",
       " 'E07000007',\n",
       " 32457.21,\n",
       " 0.0,\n",
       " 'AA',\n",
       " 'CIVIL ADMINISTRATION AREA',\n",
       " '',\n",
       " '']"
      ]
     },
     "execution_count": 9,
     "metadata": {},
     "output_type": "execute_result"
    }
   ],
   "source": [
    "sf_district.record(0)  # or sf_district.records()[0]"
   ]
  },
  {
   "cell_type": "markdown",
   "metadata": {},
   "source": [
    "The geometry for each of the districts is defined within the `.shp` file and can be accessed through the `shape` and `shapes` methods. According to the [Boundary-Line User Manual](https://digimap.edina.ac.uk/webhelp/os/data_files/os_manuals/boundary-line-user-guide_1_18.pdf) (p.91), all Ordnance Survey geometry is defined in the OSGB36 projection.\n",
    "\n",
    ">**National Grid**  \n",
    "A unique referencing system that can be applied to all Ordnance Survey maps of Great Britain (GB) at all\n",
    "scales. It is used by Ordnance Survey on all post-war mapping to provide an unambiguous spatial reference\n",
    "in Great Britain for any place or entity whatever the map scale. The National Grid is defined by the OSGB36®\n",
    "spheroid."
   ]
  },
  {
   "cell_type": "code",
   "execution_count": 10,
   "metadata": {},
   "outputs": [
    {
     "data": {
      "text/plain": [
       "[(476152.20059080864, 183567.80351806417),\n",
       " (476146.50325358775, 183569.70297435045),\n",
       " (476164.7990441711, 183643.40187825868),\n",
       " (476191.10078908363, 183743.60319592984),\n",
       " (476205.4966657661, 183806.2952505159)]"
      ]
     },
     "execution_count": 10,
     "metadata": {},
     "output_type": "execute_result"
    }
   ],
   "source": [
    "sf_district.shape(0).points[:5]"
   ]
  },
  {
   "cell_type": "markdown",
   "metadata": {},
   "source": [
    "Some shapes contain multiple components so care must be taken to draw each as a separate closed polygon. For multi-part shapes, the list `parts` will contain multiple offsets which indicate the location of the first point in the corresponding `points` array."
   ]
  },
  {
   "cell_type": "code",
   "execution_count": 11,
   "metadata": {},
   "outputs": [
    {
     "data": {
      "text/plain": [
       "[0, 6570]"
      ]
     },
     "execution_count": 11,
     "metadata": {},
     "output_type": "execute_result"
    }
   ],
   "source": [
    "sf_district.shape(5).parts"
   ]
  },
  {
   "cell_type": "markdown",
   "metadata": {},
   "source": [
    "It is necesary to map district codes to the associated shp record"
   ]
  },
  {
   "cell_type": "code",
   "execution_count": 12,
   "metadata": {},
   "outputs": [],
   "source": [
    "district_to_shp_record_map = {\n",
    "    x[8]: i for i, x in enumerate(sf_district.records())\n",
    "}"
   ]
  },
  {
   "cell_type": "markdown",
   "metadata": {},
   "source": [
    "---"
   ]
  },
  {
   "cell_type": "markdown",
   "metadata": {},
   "source": [
    "## UK HM Land Registry Price Paid data set"
   ]
  },
  {
   "cell_type": "markdown",
   "metadata": {},
   "source": [
    "Data on the price paid for houses in the UK from 1995 to present can be [downloaded](https://www.gov.uk/government/statistical-data-sets/price-paid-data-downloads) for free from HM Land Registry. Details about the data including a description of the fields are available [here](https://www.gov.uk/guidance/about-the-price-paid-data).\n",
    "\n",
    "It is stated that data from the most recent 2 months is **not reliable** due to the typical time of between 2 weeks and 2 months between the sale of a property and registration.\n",
    "\n",
    ">The amount of time between the sale of a property and the registration of this information with HM Land Registry varies. It typically ranges between 2 weeks and 2 months. Data for the two most recent months is therefore incomplete and does not give an indication of final monthly volumes. "
   ]
  },
  {
   "cell_type": "code",
   "execution_count": 13,
   "metadata": {},
   "outputs": [],
   "source": [
    "PP_CSV = os.getenv('DATA_PP_COMPLETE')"
   ]
  },
  {
   "cell_type": "markdown",
   "metadata": {},
   "source": [
    "Let's take a look at the first few entries in the data set"
   ]
  },
  {
   "cell_type": "code",
   "execution_count": 15,
   "metadata": {},
   "outputs": [
    {
     "name": "stdout",
     "output_type": "stream",
     "text": [
      "\"{BC7C2FC5-6B3D-41DF-981E-D02E70CBE6C3}\",\"62750\",\"1995-10-31 00:00\",\"BS6 7TF\",\"T\",\"Y\",\"F\",\"59\",\"\",\"THE FURLONG\",\"BRISTOL\",\"BRISTOL\",\"BRISTOL\",\"AVON\",\"A\",\"A\"\n",
      "\"{BF52C772-ED3F-485E-83CF-CCA3C3F5F3B5}\",\"175000\",\"1995-10-27 00:00\",\"NE20 9PH\",\"D\",\"Y\",\"F\",\"14\",\"\",\"OAKLANDS\",\"PONTELAND\",\"NEWCASTLE UPON TYNE\",\"CASTLE MORPETH\",\"NORTHUMBERLAND\",\"A\",\"A\"\n",
      "\"{752C4832-3E46-4BC1-9360-D3B5DFE358D8}\",\"15000\",\"1995-04-21 00:00\",\"WV2 4NY\",\"T\",\"N\",\"F\",\"40\",\"\",\"ARGYLE ROAD\",\"WOLVERHAMPTON\",\"WOLVERHAMPTON\",\"WOLVERHAMPTON\",\"WEST MIDLANDS\",\"A\",\"A\"\n"
     ]
    }
   ],
   "source": [
    "!head -3 $PP_CSV"
   ]
  },
  {
   "cell_type": "markdown",
   "metadata": {},
   "source": [
    "### Loading the data into python\n",
    "The dataset is approximately 4GB in size, and although this is not very big, it's big enough to be problematic to work with. Attempting to load all of the data into a Pandas DataFrame exhausts all system memory. Instead the data can be loaded into a Spark data frame."
   ]
  },
  {
   "cell_type": "code",
   "execution_count": 16,
   "metadata": {},
   "outputs": [
    {
     "name": "stdout",
     "output_type": "stream",
     "text": [
      "CPU times: user 5.46 ms, sys: 227 µs, total: 5.69 ms\n",
      "Wall time: 19.9 s\n"
     ]
    }
   ],
   "source": [
    "%%time\n",
    "pp = spark.read.csv(PP_CSV, header=False, inferSchema=True)"
   ]
  },
  {
   "cell_type": "markdown",
   "metadata": {},
   "source": [
    "Number of rows in the dataset"
   ]
  },
  {
   "cell_type": "code",
   "execution_count": 17,
   "metadata": {},
   "outputs": [
    {
     "name": "stdout",
     "output_type": "stream",
     "text": [
      "CPU times: user 1.4 ms, sys: 1.47 ms, total: 2.87 ms\n",
      "Wall time: 12.4 s\n"
     ]
    },
    {
     "data": {
      "text/plain": [
       "22859090"
      ]
     },
     "execution_count": 17,
     "metadata": {},
     "output_type": "execute_result"
    }
   ],
   "source": [
    "%%time\n",
    "# 64 partitions\n",
    "pp.count()"
   ]
  },
  {
   "cell_type": "markdown",
   "metadata": {},
   "source": [
    "The dataset does not contain column names so these must be added manually based on the information found through the link above."
   ]
  },
  {
   "cell_type": "code",
   "execution_count": 18,
   "metadata": {},
   "outputs": [],
   "source": [
    "col_names = {\n",
    "    0: 'id',\n",
    "    1: 'price',\n",
    "    2: 'date_of_transfer',\n",
    "    3: 'postcode',\n",
    "    4: 'property_type',\n",
    "    5: 'is_new',\n",
    "    6: 'duration',\n",
    "    7: 'PAON',\n",
    "    8: 'SAON',\n",
    "    9: 'street',\n",
    "    10: 'locality',\n",
    "    11: 'town_city',\n",
    "    12: 'district',\n",
    "    13: 'county',\n",
    "    14: 'ppd_category_type',\n",
    "    15: 'record_status',\n",
    "}\n",
    "\n",
    "col_name_list = [\n",
    "    v for k, v in sorted(\n",
    "        [(k, v) for k, v in col_names.items()], key=lambda x: x[0]\n",
    "    )\n",
    "]"
   ]
  },
  {
   "cell_type": "markdown",
   "metadata": {},
   "source": [
    "Rename all the columns in the dataframe"
   ]
  },
  {
   "cell_type": "code",
   "execution_count": 19,
   "metadata": {},
   "outputs": [
    {
     "name": "stdout",
     "output_type": "stream",
     "text": [
      "CPU times: user 1.39 ms, sys: 615 µs, total: 2.01 ms\n",
      "Wall time: 12.1 ms\n"
     ]
    }
   ],
   "source": [
    "%%time\n",
    "# 64 partitions\n",
    "pp = pp.toDF(*col_name_list)"
   ]
  },
  {
   "cell_type": "markdown",
   "metadata": {},
   "source": [
    "Display the schema for the dataframe - field names, types"
   ]
  },
  {
   "cell_type": "code",
   "execution_count": 20,
   "metadata": {},
   "outputs": [
    {
     "name": "stdout",
     "output_type": "stream",
     "text": [
      "root\n",
      " |-- id: string (nullable = true)\n",
      " |-- price: integer (nullable = true)\n",
      " |-- date_of_transfer: string (nullable = true)\n",
      " |-- postcode: string (nullable = true)\n",
      " |-- property_type: string (nullable = true)\n",
      " |-- is_new: string (nullable = true)\n",
      " |-- duration: string (nullable = true)\n",
      " |-- PAON: string (nullable = true)\n",
      " |-- SAON: string (nullable = true)\n",
      " |-- street: string (nullable = true)\n",
      " |-- locality: string (nullable = true)\n",
      " |-- town_city: string (nullable = true)\n",
      " |-- district: string (nullable = true)\n",
      " |-- county: string (nullable = true)\n",
      " |-- ppd_category_type: string (nullable = true)\n",
      " |-- record_status: string (nullable = true)\n",
      "\n"
     ]
    }
   ],
   "source": [
    "pp.printSchema()"
   ]
  },
  {
   "cell_type": "markdown",
   "metadata": {},
   "source": [
    "Number of non-null entries in each column "
   ]
  },
  {
   "cell_type": "code",
   "execution_count": 21,
   "metadata": {},
   "outputs": [],
   "source": [
    "def count_non_null(df):\n",
    "    return df.select([count(when(col(c).isNotNull() & ~isnan(c), c)).alias(c) for c in df.columns])\n",
    "\n",
    "def print_counts(df):\n",
    "    counts = count_non_null(df).first()\n",
    "    print(tabulate(counts.asDict().items(), headers=['field', 'count']))\n",
    "    return counts"
   ]
  },
  {
   "cell_type": "markdown",
   "metadata": {},
   "source": [
    "Take a sample of the data set as this will be quicker for exploratory work."
   ]
  },
  {
   "cell_type": "code",
   "execution_count": 22,
   "metadata": {},
   "outputs": [],
   "source": [
    "#pp = pp_full\n",
    "pp_full = pp\n",
    "pp = pp.sample(False, 0.05)"
   ]
  },
  {
   "cell_type": "code",
   "execution_count": 23,
   "metadata": {},
   "outputs": [
    {
     "name": "stdout",
     "output_type": "stream",
     "text": [
      "field                count\n",
      "-----------------  -------\n",
      "id                 1141214\n",
      "price              1141214\n",
      "date_of_transfer   1141214\n",
      "postcode           1139775\n",
      "property_type      1141214\n",
      "is_new             1141214\n",
      "duration           1141214\n",
      "PAON               1141017\n",
      "SAON                130378\n",
      "street             1123982\n",
      "locality            805231\n",
      "town_city          1141214\n",
      "district           1141214\n",
      "county             1141214\n",
      "ppd_category_type  1141214\n",
      "record_status      1141214\n",
      "CPU times: user 32.3 ms, sys: 22.1 ms, total: 54.3 ms\n",
      "Wall time: 29.7 s\n"
     ]
    }
   ],
   "source": [
    "%%time\n",
    "# 64 partitions\n",
    "pp_counts = print_counts(pp)"
   ]
  },
  {
   "cell_type": "markdown",
   "metadata": {},
   "source": [
    "There are some null entries in the postcode field: these data are of no interest to us and should be removed."
   ]
  },
  {
   "cell_type": "code",
   "execution_count": 24,
   "metadata": {},
   "outputs": [],
   "source": [
    "pp = pp.dropna(subset=['postcode'])"
   ]
  },
  {
   "cell_type": "code",
   "execution_count": 25,
   "metadata": {},
   "outputs": [
    {
     "name": "stdout",
     "output_type": "stream",
     "text": [
      "CPU times: user 1.76 ms, sys: 775 µs, total: 2.53 ms\n",
      "Wall time: 13.7 s\n"
     ]
    },
    {
     "data": {
      "text/plain": [
       "1139775"
      ]
     },
     "execution_count": 25,
     "metadata": {},
     "output_type": "execute_result"
    }
   ],
   "source": [
    "%%time\n",
    "# 64 partitions?\n",
    "pp.count()"
   ]
  },
  {
   "cell_type": "markdown",
   "metadata": {},
   "source": [
    "Let's take a look at a few randomly selected entries in the data set to see what we're working with"
   ]
  },
  {
   "cell_type": "code",
   "execution_count": 26,
   "metadata": {},
   "outputs": [
    {
     "name": "stdout",
     "output_type": "stream",
     "text": [
      "[{'PAON': '14',\n",
      "  'SAON': None,\n",
      "  'county': 'SOUTH YORKSHIRE',\n",
      "  'date_of_transfer': '1995-02-24 00:00',\n",
      "  'district': 'SHEFFIELD',\n",
      "  'duration': 'F',\n",
      "  'id': '{3F3A8702-D9C8-452D-90E6-D72848980E85}',\n",
      "  'is_new': 'N',\n",
      "  'locality': 'SHEFFIELD',\n",
      "  'postcode': 'S11 9HP',\n",
      "  'ppd_category_type': 'A',\n",
      "  'price': 76000,\n",
      "  'property_type': 'S',\n",
      "  'record_status': 'A',\n",
      "  'street': 'DUNKELD ROAD',\n",
      "  'town_city': 'SHEFFIELD'},\n",
      " {'PAON': '1',\n",
      "  'SAON': None,\n",
      "  'county': 'HAMPSHIRE',\n",
      "  'date_of_transfer': '1995-06-08 00:00',\n",
      "  'district': 'NEW FOREST',\n",
      "  'duration': 'F',\n",
      "  'id': '{DB80D0A3-E07D-4BDE-B8BA-C923DDE91E0E}',\n",
      "  'is_new': 'N',\n",
      "  'locality': 'HYTHE',\n",
      "  'postcode': 'SO45 3RT',\n",
      "  'ppd_category_type': 'A',\n",
      "  'price': 110000,\n",
      "  'property_type': 'D',\n",
      "  'record_status': 'A',\n",
      "  'street': 'HAYLEY CLOSE',\n",
      "  'town_city': 'SOUTHAMPTON'}]\n"
     ]
    }
   ],
   "source": [
    "pprint([row.asDict() for row in pp.rdd.take(2)])"
   ]
  },
  {
   "cell_type": "markdown",
   "metadata": {},
   "source": [
    "The `date_of_transfer` field is a string specifying the date at which the sale took place. This needs to be converted to a `datetime` object (`spark.sql.types.DateType`) in order to manipulate it as a date."
   ]
  },
  {
   "cell_type": "code",
   "execution_count": 27,
   "metadata": {},
   "outputs": [
    {
     "name": "stdout",
     "output_type": "stream",
     "text": [
      "CPU times: user 12 ms, sys: 10.4 ms, total: 22.5 ms\n",
      "Wall time: 60.9 ms\n"
     ]
    }
   ],
   "source": [
    "%%time\n",
    "\n",
    "def date_str_to_datetime(date_str, datetime_format='%Y-%m-%d %H:%M'):\n",
    "    try:\n",
    "        return datetime.strptime(date_str, datetime_format).date()\n",
    "    except Exception:\n",
    "        return\n",
    "    \n",
    "pp = pp.withColumn(\n",
    "    'date_of_transfer_datetime',\n",
    "    udf(lambda x: date_str_to_datetime(x), DateType())(pp['date_of_transfer'])\n",
    ").dropna(subset=['date_of_transfer_datetime'])"
   ]
  },
  {
   "cell_type": "markdown",
   "metadata": {},
   "source": [
    "Now we can see how many sales took place each year."
   ]
  },
  {
   "cell_type": "code",
   "execution_count": 28,
   "metadata": {},
   "outputs": [
    {
     "name": "stdout",
     "output_type": "stream",
     "text": [
      "CPU times: user 39.7 ms, sys: 21.8 ms, total: 61.6 ms\n",
      "Wall time: 22.8 s\n"
     ]
    }
   ],
   "source": [
    "%%time\n",
    "# 64 partitions\n",
    "sales_by_year = pp.groupby(year(pp['date_of_transfer_datetime']).alias('year')).count().orderBy('year').toPandas()\n",
    "sales_by_year = sales_by_year.iloc[:-1]  # Trim last year with incomplete data"
   ]
  },
  {
   "cell_type": "code",
   "execution_count": 29,
   "metadata": {},
   "outputs": [
    {
     "data": {
      "image/png": "[encoded data removed]",
      "text/plain": [
       "<Figure size 600x400 with 1 Axes>"
      ]
     },
     "metadata": {
      "needs_background": "light"
     },
     "output_type": "display_data"
    }
   ],
   "source": [
    "plt.rcParams['figure.dpi'] = 100\n",
    "plt.plot(sales_by_year['year'], sales_by_year['count'], linestyle='--', marker='^', \n",
    "         markerfacecolor='none', markeredgewidth=0.7, label=r'HM PP')\n",
    "plt.legend()\n",
    "plt.title('Year on year house sales volume')\n",
    "plt.xlabel('year')\n",
    "plt.ylabel('sales')\n",
    "plt.show()"
   ]
  },
  {
   "cell_type": "markdown",
   "metadata": {},
   "source": [
    "---"
   ]
  },
  {
   "cell_type": "markdown",
   "metadata": {},
   "source": [
    "## Mapping post codes into map tile regions\n",
    "The code point open data set includes details of which county each UK postcode belongs. The data is freely available for [download](https://www.ordnancesurvey.co.uk/business-and-government/products/code-point-open.html) from Ordinance Survey."
   ]
  },
  {
   "cell_type": "code",
   "execution_count": 30,
   "metadata": {},
   "outputs": [],
   "source": [
    "CPO_DIR = os.getenv('DATA_CODEPO')"
   ]
  },
  {
   "cell_type": "code",
   "execution_count": 31,
   "metadata": {},
   "outputs": [
    {
     "name": "stdout",
     "output_type": "stream",
     "text": [
      "/home/csk13/src/uk-data-mapping/codepo_gb\n",
      "├── Data\n",
      "│   └── CSV\n",
      "│       ├── ab.csv\n",
      "│       ├── al.csv\n",
      "│       ├── ba.csv\n",
      "│       ├── bb.csv\n",
      "│       ├── b.csv\n",
      "│       ├── bd.csv\n",
      "│       ├── bh.csv\n"
     ]
    }
   ],
   "source": [
    "!tree $CPO_DIR | head -10"
   ]
  },
  {
   "cell_type": "markdown",
   "metadata": {},
   "source": [
    "The postcode data is split into many `.csv` files, each one named based on the [postcode area code](https://en.wikipedia.org/wiki/List_of_postcode_areas_in_the_United_Kingdom) - the first one or two letters of the post code."
   ]
  },
  {
   "cell_type": "markdown",
   "metadata": {},
   "source": [
    "A file specifying the column headers is provided. Let's take a look."
   ]
  },
  {
   "cell_type": "code",
   "execution_count": 32,
   "metadata": {},
   "outputs": [
    {
     "name": "stdout",
     "output_type": "stream",
     "text": [
      "PC,PQ,EA,NO,CY,RH,LH,CC,DC,WC\n",
      "Postcode,Positional_quality_indicator,Eastings,Northings,Country_code,NHS_regional_HA_code,NHS_HA_code,Admin_county_code,Admin_district_code,Admin_ward_code\n"
     ]
    }
   ],
   "source": [
    "!head $CPO_DIR/Doc/Code-Point_Open_Column_Headers.csv"
   ]
  },
  {
   "cell_type": "markdown",
   "metadata": {},
   "source": [
    "Let's take a look at a few entries from one of the .csv files"
   ]
  },
  {
   "cell_type": "code",
   "execution_count": 33,
   "metadata": {},
   "outputs": [
    {
     "name": "stdout",
     "output_type": "stream",
     "text": [
      "\"AB101AB\",10,394235,806529,\"S92000003\",\"\",\"S08000020\",\"\",\"S12000033\",\"S13002842\"\n",
      "\"AB101AF\",10,394181,806429,\"S92000003\",\"\",\"S08000020\",\"\",\"S12000033\",\"S13002842\"\n",
      "\"AB101AG\",10,394230,806469,\"S92000003\",\"\",\"S08000020\",\"\",\"S12000033\",\"S13002842\"\n"
     ]
    }
   ],
   "source": [
    "!head -3 $CPO_DIR/Data/CSV/ab.csv"
   ]
  },
  {
   "cell_type": "markdown",
   "metadata": {},
   "source": [
    "Building mapping between postcode and district code."
   ]
  },
  {
   "cell_type": "code",
   "execution_count": 34,
   "metadata": {},
   "outputs": [
    {
     "name": "stdout",
     "output_type": "stream",
     "text": [
      "CPU times: user 2.29 s, sys: 166 ms, total: 2.45 s\n",
      "Wall time: 2.6 s\n"
     ]
    }
   ],
   "source": [
    "%%time\n",
    "postarea_code_fnames = [str(path) for path in (Path(CPO_DIR) / 'Data/CSV').glob('*.csv')]\n",
    "\n",
    "postcode_to_district_map = {\n",
    "    x[1]: x[2] \n",
    "    for fname in postarea_code_fnames \n",
    "    for x in pd.read_csv(fname, usecols=(0,8,), header=None).itertuples()\n",
    "}"
   ]
  },
  {
   "cell_type": "code",
   "execution_count": 35,
   "metadata": {},
   "outputs": [
    {
     "data": {
      "text/plain": [
       "1698194"
      ]
     },
     "execution_count": 35,
     "metadata": {},
     "output_type": "execute_result"
    }
   ],
   "source": [
    "len(postcode_to_district_map)"
   ]
  },
  {
   "cell_type": "markdown",
   "metadata": {},
   "source": [
    "Finally, the mapping tables can be combined to obtain the index of the shapefile record corresponding to the district to which a given postcode belongs"
   ]
  },
  {
   "cell_type": "code",
   "execution_count": 36,
   "metadata": {},
   "outputs": [],
   "source": [
    "def shp_record_for_postcode(pc):\n",
    "    try:\n",
    "        return district_to_shp_record_map[postcode_to_district_map[pc]]\n",
    "    except KeyError:\n",
    "        return"
   ]
  },
  {
   "cell_type": "markdown",
   "metadata": {},
   "source": [
    "---"
   ]
  },
  {
   "cell_type": "markdown",
   "metadata": {},
   "source": [
    "## Mean house price throughout UK in 2016"
   ]
  },
  {
   "cell_type": "markdown",
   "metadata": {},
   "source": [
    "The postcodes in the Code Point Open dataset and the Price Paid dataset are in different formats. It's necessary to remove spaces from the postcodes in the Price Paid dataset."
   ]
  },
  {
   "cell_type": "code",
   "execution_count": 37,
   "metadata": {},
   "outputs": [],
   "source": [
    "pp = pp.withColumn('postcode', udf(lambda x: x.replace(' ', '').upper(), StringType())(pp['postcode']))"
   ]
  },
  {
   "cell_type": "markdown",
   "metadata": {},
   "source": [
    "In order to aggregate data at the district level we first need to assign each row to a district using the mapping defined by `postcode_to_district_map`."
   ]
  },
  {
   "cell_type": "code",
   "execution_count": 38,
   "metadata": {},
   "outputs": [],
   "source": [
    "pp = pp.withColumn(\n",
    "    'district_id',\n",
    "    udf(lambda x: postcode_to_district_map.get(x), StringType())(pp['postcode'])\n",
    ").dropna(subset=['district_id'])"
   ]
  },
  {
   "cell_type": "code",
   "execution_count": 39,
   "metadata": {
    "scrolled": false
   },
   "outputs": [
    {
     "name": "stdout",
     "output_type": "stream",
     "text": [
      "CPU times: user 10.7 ms, sys: 1.1 ms, total: 11.8 ms\n",
      "Wall time: 28.4 s\n"
     ]
    }
   ],
   "source": [
    "%%time\n",
    "pp_2016 = pp.filter(year(pp['date_of_transfer_datetime']) == 2016)\n",
    "pp_2016.count()"
   ]
  },
  {
   "cell_type": "code",
   "execution_count": 40,
   "metadata": {},
   "outputs": [],
   "source": [
    "pp_2016_df = pp_2016.toPandas()"
   ]
  },
  {
   "cell_type": "code",
   "execution_count": 41,
   "metadata": {},
   "outputs": [
    {
     "data": {
      "text/html": [
       "<div>\n",
       "<style scoped>\n",
       "    .dataframe tbody tr th:only-of-type {\n",
       "        vertical-align: middle;\n",
       "    }\n",
       "\n",
       "    .dataframe tbody tr th {\n",
       "        vertical-align: top;\n",
       "    }\n",
       "\n",
       "    .dataframe thead th {\n",
       "        text-align: right;\n",
       "    }\n",
       "</style>\n",
       "<table border=\"1\" class=\"dataframe\">\n",
       "  <thead>\n",
       "    <tr style=\"text-align: right;\">\n",
       "      <th></th>\n",
       "      <th>id</th>\n",
       "      <th>price</th>\n",
       "      <th>date_of_transfer</th>\n",
       "      <th>postcode</th>\n",
       "      <th>property_type</th>\n",
       "      <th>is_new</th>\n",
       "      <th>duration</th>\n",
       "      <th>PAON</th>\n",
       "      <th>SAON</th>\n",
       "      <th>street</th>\n",
       "      <th>locality</th>\n",
       "      <th>town_city</th>\n",
       "      <th>district</th>\n",
       "      <th>county</th>\n",
       "      <th>ppd_category_type</th>\n",
       "      <th>record_status</th>\n",
       "      <th>date_of_transfer_datetime</th>\n",
       "      <th>district_id</th>\n",
       "    </tr>\n",
       "  </thead>\n",
       "  <tbody>\n",
       "    <tr>\n",
       "      <th>0</th>\n",
       "      <td>{31FB4C17-ABF8-57B9-E050-A8C063053436}</td>\n",
       "      <td>495000</td>\n",
       "      <td>2016-03-24 00:00</td>\n",
       "      <td>UB100HP</td>\n",
       "      <td>S</td>\n",
       "      <td>N</td>\n",
       "      <td>F</td>\n",
       "      <td>99</td>\n",
       "      <td>None</td>\n",
       "      <td>MISBOURNE ROAD</td>\n",
       "      <td>None</td>\n",
       "      <td>UXBRIDGE</td>\n",
       "      <td>HILLINGDON</td>\n",
       "      <td>GREATER LONDON</td>\n",
       "      <td>A</td>\n",
       "      <td>A</td>\n",
       "      <td>2016-03-24</td>\n",
       "      <td>E09000017</td>\n",
       "    </tr>\n",
       "    <tr>\n",
       "      <th>1</th>\n",
       "      <td>{31FB4C17-A9DD-57B9-E050-A8C063053436}</td>\n",
       "      <td>236000</td>\n",
       "      <td>2016-03-01 00:00</td>\n",
       "      <td>TD151NW</td>\n",
       "      <td>S</td>\n",
       "      <td>N</td>\n",
       "      <td>F</td>\n",
       "      <td>26</td>\n",
       "      <td>None</td>\n",
       "      <td>MEADOW GRANGE</td>\n",
       "      <td>None</td>\n",
       "      <td>BERWICK-UPON-TWEED</td>\n",
       "      <td>NORTHUMBERLAND</td>\n",
       "      <td>NORTHUMBERLAND</td>\n",
       "      <td>A</td>\n",
       "      <td>A</td>\n",
       "      <td>2016-03-01</td>\n",
       "      <td>E06000057</td>\n",
       "    </tr>\n",
       "    <tr>\n",
       "      <th>2</th>\n",
       "      <td>{31FB4C17-A9EC-57B9-E050-A8C063053436}</td>\n",
       "      <td>191995</td>\n",
       "      <td>2016-04-15 00:00</td>\n",
       "      <td>NE250FP</td>\n",
       "      <td>D</td>\n",
       "      <td>Y</td>\n",
       "      <td>L</td>\n",
       "      <td>4</td>\n",
       "      <td>None</td>\n",
       "      <td>CHIRDON WAY</td>\n",
       "      <td>SEATON DELAVAL</td>\n",
       "      <td>WHITLEY BAY</td>\n",
       "      <td>NORTHUMBERLAND</td>\n",
       "      <td>NORTHUMBERLAND</td>\n",
       "      <td>A</td>\n",
       "      <td>A</td>\n",
       "      <td>2016-04-15</td>\n",
       "      <td>E06000057</td>\n",
       "    </tr>\n",
       "    <tr>\n",
       "      <th>3</th>\n",
       "      <td>{31FB4C17-AA10-57B9-E050-A8C063053436}</td>\n",
       "      <td>20000</td>\n",
       "      <td>2016-04-11 00:00</td>\n",
       "      <td>NE241SB</td>\n",
       "      <td>T</td>\n",
       "      <td>N</td>\n",
       "      <td>F</td>\n",
       "      <td>19</td>\n",
       "      <td>None</td>\n",
       "      <td>DALE STREET</td>\n",
       "      <td>CAMBOIS</td>\n",
       "      <td>BLYTH</td>\n",
       "      <td>NORTHUMBERLAND</td>\n",
       "      <td>NORTHUMBERLAND</td>\n",
       "      <td>A</td>\n",
       "      <td>A</td>\n",
       "      <td>2016-04-11</td>\n",
       "      <td>E06000057</td>\n",
       "    </tr>\n",
       "    <tr>\n",
       "      <th>4</th>\n",
       "      <td>{31FB4C17-AA36-57B9-E050-A8C063053436}</td>\n",
       "      <td>73500</td>\n",
       "      <td>2016-04-01 00:00</td>\n",
       "      <td>NE646LD</td>\n",
       "      <td>S</td>\n",
       "      <td>N</td>\n",
       "      <td>F</td>\n",
       "      <td>25</td>\n",
       "      <td>None</td>\n",
       "      <td>PELAW AVENUE</td>\n",
       "      <td>None</td>\n",
       "      <td>NEWBIGGIN-BY-THE-SEA</td>\n",
       "      <td>NORTHUMBERLAND</td>\n",
       "      <td>NORTHUMBERLAND</td>\n",
       "      <td>A</td>\n",
       "      <td>A</td>\n",
       "      <td>2016-04-01</td>\n",
       "      <td>E06000057</td>\n",
       "    </tr>\n",
       "  </tbody>\n",
       "</table>\n",
       "</div>"
      ],
      "text/plain": [
       "                                       id   price  date_of_transfer postcode  \\\n",
       "0  {31FB4C17-ABF8-57B9-E050-A8C063053436}  495000  2016-03-24 00:00  UB100HP   \n",
       "1  {31FB4C17-A9DD-57B9-E050-A8C063053436}  236000  2016-03-01 00:00  TD151NW   \n",
       "2  {31FB4C17-A9EC-57B9-E050-A8C063053436}  191995  2016-04-15 00:00  NE250FP   \n",
       "3  {31FB4C17-AA10-57B9-E050-A8C063053436}   20000  2016-04-11 00:00  NE241SB   \n",
       "4  {31FB4C17-AA36-57B9-E050-A8C063053436}   73500  2016-04-01 00:00  NE646LD   \n",
       "\n",
       "  property_type is_new duration PAON  SAON          street        locality  \\\n",
       "0             S      N        F   99  None  MISBOURNE ROAD            None   \n",
       "1             S      N        F   26  None   MEADOW GRANGE            None   \n",
       "2             D      Y        L    4  None     CHIRDON WAY  SEATON DELAVAL   \n",
       "3             T      N        F   19  None     DALE STREET         CAMBOIS   \n",
       "4             S      N        F   25  None    PELAW AVENUE            None   \n",
       "\n",
       "              town_city        district          county ppd_category_type  \\\n",
       "0              UXBRIDGE      HILLINGDON  GREATER LONDON                 A   \n",
       "1    BERWICK-UPON-TWEED  NORTHUMBERLAND  NORTHUMBERLAND                 A   \n",
       "2           WHITLEY BAY  NORTHUMBERLAND  NORTHUMBERLAND                 A   \n",
       "3                 BLYTH  NORTHUMBERLAND  NORTHUMBERLAND                 A   \n",
       "4  NEWBIGGIN-BY-THE-SEA  NORTHUMBERLAND  NORTHUMBERLAND                 A   \n",
       "\n",
       "  record_status date_of_transfer_datetime district_id  \n",
       "0             A                2016-03-24   E09000017  \n",
       "1             A                2016-03-01   E06000057  \n",
       "2             A                2016-04-15   E06000057  \n",
       "3             A                2016-04-11   E06000057  \n",
       "4             A                2016-04-01   E06000057  "
      ]
     },
     "execution_count": 41,
     "metadata": {},
     "output_type": "execute_result"
    }
   ],
   "source": [
    "pp_2016_df.head()"
   ]
  },
  {
   "cell_type": "code",
   "execution_count": 42,
   "metadata": {},
   "outputs": [
    {
     "data": {
      "text/plain": [
       "id                           24170\n",
       "price                        24170\n",
       "date_of_transfer             24170\n",
       "postcode                     24170\n",
       "property_type                24170\n",
       "is_new                       24170\n",
       "duration                     24170\n",
       "PAON                         24170\n",
       "SAON                          2965\n",
       "street                       23606\n",
       "locality                      9736\n",
       "town_city                    24170\n",
       "district                     24170\n",
       "county                       24170\n",
       "ppd_category_type            24170\n",
       "record_status                24170\n",
       "date_of_transfer_datetime    24170\n",
       "district_id                  24170\n",
       "dtype: int64"
      ]
     },
     "execution_count": 42,
     "metadata": {},
     "output_type": "execute_result"
    }
   ],
   "source": [
    "pp_2016_df.count()"
   ]
  },
  {
   "cell_type": "code",
   "execution_count": 43,
   "metadata": {},
   "outputs": [],
   "source": [
    "pp_2016_mean_prices = pp_2016_df.groupby('district_id').agg({'price':'mean'})"
   ]
  },
  {
   "cell_type": "code",
   "execution_count": 44,
   "metadata": {},
   "outputs": [
    {
     "name": "stdout",
     "output_type": "stream",
     "text": [
      "CPU times: user 9.09 ms, sys: 162 µs, total: 9.25 ms\n",
      "Wall time: 76.2 ms\n"
     ]
    }
   ],
   "source": [
    "%%time\n",
    "\n",
    "def shp_record_for_district(d_id):\n",
    "    try:\n",
    "        return district_to_shp_record_map[d_id]\n",
    "    except KeyError:\n",
    "        return\n",
    "    \n",
    "pp_2016_mean_prices['shp_record'] = pp_2016_mean_prices.apply(\n",
    "    lambda x: shp_record_for_district(x.name), axis=1\n",
    ").astype(np.int64)"
   ]
  },
  {
   "cell_type": "code",
   "execution_count": 45,
   "metadata": {
    "scrolled": true
   },
   "outputs": [
    {
     "name": "stdout",
     "output_type": "stream",
     "text": [
      "CPU times: user 610 µs, sys: 98 µs, total: 708 µs\n",
      "Wall time: 625 µs\n"
     ]
    }
   ],
   "source": [
    "%%time\n",
    "\n",
    "def shp_record_for_district(d_id):\n",
    "    try:\n",
    "        return district_to_shp_record_map[d_id]\n",
    "    except KeyError:\n",
    "        return\n",
    "    \n",
    "pp_2016_mean_prices['shp_record'] = pd.Series(\n",
    "    [shp_record_for_district(x) for x in pp_2016_mean_prices.index], \n",
    "    pp_2016_mean_prices.index\n",
    ")"
   ]
  },
  {
   "cell_type": "markdown",
   "metadata": {},
   "source": [
    "**Note**: There is a discrepency between the number of calculated district mean prices in the dataframe and the number of districts present in the shapefile."
   ]
  },
  {
   "cell_type": "code",
   "execution_count": 46,
   "metadata": {},
   "outputs": [
    {
     "name": "stdout",
     "output_type": "stream",
     "text": [
      "<class 'pandas.core.frame.DataFrame'>\n",
      "Index: 278 entries, E06000001 to W06000024\n",
      "Data columns (total 2 columns):\n",
      "price         278 non-null float64\n",
      "shp_record    278 non-null int64\n",
      "dtypes: float64(1), int64(1)\n",
      "memory usage: 6.5+ KB\n"
     ]
    }
   ],
   "source": [
    "pp_2016_mean_prices.info()"
   ]
  },
  {
   "cell_type": "code",
   "execution_count": 47,
   "metadata": {},
   "outputs": [
    {
     "data": {
      "text/plain": [
       "380"
      ]
     },
     "execution_count": 47,
     "metadata": {},
     "output_type": "execute_result"
    }
   ],
   "source": [
    "sf_district.numRecords"
   ]
  },
  {
   "cell_type": "markdown",
   "metadata": {},
   "source": [
    "#### Create a new shapefile with additional attribute\n",
    "It's best to create a new shapefile with additional attributes rather than editing an existing shapefile in place. Details of [how to write shapefile data to file](https://github.com/GeospatialPython/pyshp#writing-shapefiles) can be found in the `pyshp` repo."
   ]
  },
  {
   "cell_type": "code",
   "execution_count": 48,
   "metadata": {},
   "outputs": [],
   "source": [
    "records = sf_district.records()\n",
    "\n",
    "sf_writer = shp.Writer()\n",
    "sf_writer.fields = list(sf_district.fields)\n",
    "sf_writer.fields = list(sf_district.fields) + [[\"2016_MEAN_PRICE\", \"N\", 12, 3]]\n",
    "    \n",
    "for rec in records:\n",
    "    rec.append(0.)  # Ensures all shapes have a mean price value\n",
    "    \n",
    "for idx, row in pp_2016_mean_prices.iterrows():\n",
    "    records[int(row['shp_record'])][-1] = row['price']\n",
    "\n",
    "sf_writer.records = records\n",
    "sf_writer._shapes.extend(sf_district.shapes())\n",
    "\n",
    "sf_writer.save(\"uk-2016-mean-price\") "
   ]
  },
  {
   "cell_type": "markdown",
   "metadata": {},
   "source": [
    "---\n",
    "### Plotting map"
   ]
  },
  {
   "cell_type": "code",
   "execution_count": 49,
   "metadata": {},
   "outputs": [],
   "source": [
    "sf = shp.Reader(\"uk-2016-mean-price\")"
   ]
  },
  {
   "cell_type": "markdown",
   "metadata": {},
   "source": [
    "Dictionary to isolate London districts."
   ]
  },
  {
   "cell_type": "code",
   "execution_count": 51,
   "metadata": {},
   "outputs": [],
   "source": [
    "LONDON_POSTCODES_CSV = os.getenv('DATA_LONDON_POSTCODES')\n",
    "london_districts_df = pd.read_csv(LONDON_POSTCODES_CSV, usecols=(10,))\n",
    "london_districts = {x: None for x in london_districts_df['District Code'].unique()}\n",
    "sf_london_idx = np.array([i for i in range(sf.numRecords) if sf.record(i)[8] in london_districts])\n",
    "assert len(sf_london_idx) == len(london_districts)"
   ]
  },
  {
   "cell_type": "markdown",
   "metadata": {},
   "source": [
    "The `pyproj` package is useful for converting between geographic projections. Projection formats are specified by [ESPG codes](http://spatialreference.org/)."
   ]
  },
  {
   "cell_type": "code",
   "execution_count": 52,
   "metadata": {},
   "outputs": [],
   "source": [
    "wgs84=pyproj.Proj(\"+init=EPSG:4326\")     # LatLon with WGS84 datum used by GPS units and Google Earth\n",
    "osgb36 = pyproj.Proj(\"+init=EPSG:27700\") # UK Ordnance Survey, 1936 datum\n",
    "\n",
    "London_LonLat = (-0.1278, 51.5074)        # Lon-Lat geospatial coords for London\n",
    "London_osgb36 = osgb36(*London_LonLat)   # Lon-Lat OS National Grid coords for London"
   ]
  },
  {
   "cell_type": "markdown",
   "metadata": {},
   "source": [
    "OSGB36 Coords of the top10 UK cities by population. List of UK cities by population is available [here](http://www.citymayors.com/gratis/uk_topcities.html). WGS84 Lat-Long coordinates were obtained from Google Maps. It is important to note that **positive latitude** specifies and angle **North** of the equator and **positive longitude** specifies an angle **East** of the prime meridian."
   ]
  },
  {
   "cell_type": "code",
   "execution_count": 53,
   "metadata": {},
   "outputs": [],
   "source": [
    "uk_cities_top10_wgs84 = {\n",
    "    'London': [(51.5074, -0.1278), (50.523194, 0.355571)],\n",
    "    'Birmingham': [(52.4862, -1.8904), (50.253231, -1.88417)],\n",
    "    'Leeds': [(53.8008, -1.5491), (54.775133, -0.875307)],\n",
    "    'Glasgow': [(55.8642, -4.2518), (54.846665, -7.336002)],\n",
    "    'Sheffield': [(53.3811, -1.4701), (53.150688, 0.603948)],\n",
    "    'Bradford': [(53.7960, -1.7594), (55.177306, -1.134410)],\n",
    "    'Liverpool': [(53.4084, -2.9916), (53.597492, -5.146998)],\n",
    "    'Edinburgh': [(55.9533, -3.1883), (56.308727, -2.116987)],\n",
    "    'Manchester': [(53.4808, -2.2426), (54.004974, -5.715788)],\n",
    "    'Bristol': [(51.4545, -2.5879), (50.149561, -3.247066)],\n",
    "}\n",
    "\n",
    "uk_cities_top10_osgb36 = {\n",
    "    k: osgb36(lon, lat) \n",
    "    for k, ((lat, lon), _) in uk_cities_top10_wgs84.items()\n",
    "}\n",
    "uk_cities_top10_labels_osgb36 = {\n",
    "    k: osgb36(lon, lat) \n",
    "    for k, (_, (lat, lon)) in uk_cities_top10_wgs84.items()\n",
    "}"
   ]
  },
  {
   "cell_type": "code",
   "execution_count": 54,
   "metadata": {},
   "outputs": [
    {
     "data": {
      "text/plain": [
       "{'London': (529915.8259598681, 180433.9938870187),\n",
       " 'Birmingham': (407441.59663470316, 287633.45594173216),\n",
       " 'Leeds': (429694.25737852394, 433951.22248979274),\n",
       " 'Glasgow': (259095.16632049525, 665735.5205742274),\n",
       " 'Sheffield': (435244.32054710225, 387299.03216908325),\n",
       " 'Bradford': (415846.6846645916, 433349.79639267735),\n",
       " 'Liverpool': (334090.2975010383, 390663.0040515137),\n",
       " 'Edinburgh': (325808.153663839, 673996.2847710882),\n",
       " 'Manchester': (383902.0295161803, 398286.245722139),\n",
       " 'Bristol': (359155.7086262001, 173053.65671517007)}"
      ]
     },
     "execution_count": 54,
     "metadata": {},
     "output_type": "execute_result"
    }
   ],
   "source": [
    "uk_cities_top10_osgb36"
   ]
  },
  {
   "cell_type": "markdown",
   "metadata": {},
   "source": [
    "Plotting shapefile with districts coloured by mean price"
   ]
  },
  {
   "cell_type": "code",
   "execution_count": 55,
   "metadata": {},
   "outputs": [
    {
     "name": "stderr",
     "output_type": "stream",
     "text": [
      "/home/csk13/src/uk-data-mapping/venv/lib/python3.6/site-packages/ipykernel_launcher.py:11: RuntimeWarning: divide by zero encountered in log10\n",
      "  # This is added back by InteractiveShellApp.init_path()\n"
     ]
    },
    {
     "data": {
      "image/png": "[encoded data removed]",
      "text/plain": [
       "<Figure size 1800x1200 with 2 Axes>"
      ]
     },
     "metadata": {
      "needs_background": "light"
     },
     "output_type": "display_data"
    }
   ],
   "source": [
    "plt.rcParams['figure.dpi'] = 300\n",
    "\n",
    "price2016_idx = 15\n",
    "mean_price2016 = np.array([rec[price2016_idx] for rec in sf.records()])\n",
    "\n",
    "fig, ax = plt.subplots(1)\n",
    "ax.set_aspect('equal')  # Need equal aspect ratio to prevent skewed geometry\n",
    "plt.axis('off')\n",
    "\n",
    "# Set plot colormap and colours\n",
    "log_mean_price2016 = np.where(mean_price2016 > 0., np.log10(mean_price2016), 0.)\n",
    "#vmin, vmax = log_mean_price2016[log_mean_price2016 > 0].min(), log_mean_price2016.max()\n",
    "vmin, vmax = np.log10(8.0e4), np.log10(2.0e6)\n",
    "norm = colors.Normalize(vmin=vmin, vmax=vmax)\n",
    "cmap = plt.get_cmap('plasma')\n",
    "\n",
    "# Create list of polygon patches for all districts\n",
    "patches = []\n",
    "colours = []\n",
    "for i, shape in enumerate(sf.shapes()):\n",
    "    for points in np.split(np.array(shape.points), shape.parts)[1:]:\n",
    "        polygon = Polygon(points, closed=True)\n",
    "        patches.append(polygon)\n",
    "        colour = cmap(norm(log_mean_price2016[i])) if log_mean_price2016[i] > 0. \\\n",
    "            else np.array([0., 0., 0., 1.])\n",
    "        colours.append(colour)\n",
    "\n",
    "collection = PatchCollection(patches)\n",
    "collection.set_facecolor(colours)\n",
    "collection.set_linewidths(0.1)\n",
    "ax.add_collection(collection)\n",
    "\n",
    "# Create list of polygon patches for London districts\n",
    "patches_ldn = []\n",
    "colours_ldn = []\n",
    "scale = 5.\n",
    "trans = np.array([-2.7e6, -6.0e5])\n",
    "for idx in sf_london_idx:\n",
    "    for points in np.split(np.array(sf.shape(idx).points), sf.shape(idx).parts)[1:]:\n",
    "        points *= scale  # Increase size of London districts\n",
    "        points += trans  # Shift London districts\n",
    "        polygon = Polygon(points, closed=True)\n",
    "        patches_ldn.append(polygon)\n",
    "        colour = cmap(norm(log_mean_price2016[idx])) if log_mean_price2016[idx] > 0. \\\n",
    "            else np.array([0., 0., 0., 1.])\n",
    "        colours_ldn.append(colour)\n",
    "\n",
    "collection_ldn = PatchCollection(patches_ldn)\n",
    "collection_ldn.set_facecolor(colours_ldn)\n",
    "collection_ldn.set_linewidths(0.1)\n",
    "ax.add_collection(collection_ldn)\n",
    "\n",
    "# Add boxes around London\n",
    "pos_lg, w_lg, h_lg = np.array([-2.e5, 1.6e5]), 3.2e5, 2.6e5\n",
    "pos_sm, w_sm, h_sm = (pos_lg - trans) / scale, w_lg / scale, h_lg / scale \n",
    "rect_lg = Rectangle(pos_lg, w_lg, h_lg, angle=0.0, fill=False, linewidth=0.4, color='r')\n",
    "rect_sm = Rectangle(pos_sm, w_sm, h_sm, angle=0.0, fill=False, linewidth=0.4, color='r', zorder=10)\n",
    "ax.add_patch(rect_lg)\n",
    "ax.add_patch(rect_sm)\n",
    "\n",
    "ax.autoscale_view()\n",
    "\n",
    "# Create colorbar independent of plot elements \n",
    "cax = fig.add_axes([0.65, 0.4, 0.01, 0.2])\n",
    "cbar = colorbar.ColorbarBase(cax, cmap=cmap, norm=norm, ticks=np.log10([1.0e5, 5.0e5, 1.5e6]))\n",
    "cbar.ax.set_yticklabels(['0.1', '0.5', '1.5'])\n",
    "cbar.set_label(u'Mean price (M\\u00a3)', fontsize=5)\n",
    "cbar.ax.tick_params(labelsize=4)\n",
    "\n",
    "# Add points indicating 10 biggest cities\n",
    "for label, (x, y) in uk_cities_top10_osgb36.items():\n",
    "    ax.scatter(x, y, label=label, c='black', s=2.)\n",
    "\n",
    "for label, (xy, xytext) in uk_cities_top10_wgs84.items():\n",
    "    ax.annotate(label, xy=osgb36(xy[1], xy[0]), xytext=osgb36(xytext[1], xytext[0]), xycoords='data',\n",
    "                fontsize=3, horizontalalignment='left', verticalalignment='bottom', \n",
    "                arrowprops=dict(color='black', shrink=0., width=0.05, headwidth=0.05, headlength=0.05))\n",
    "    \n",
    "ax.text(0.0, 0.85, 'UK House Prices', transform=ax.transAxes, fontsize=12)\n",
    "ax.text(0.0, 0.78, 'Year: %d' % 2016, transform=ax.transAxes, fontsize=9)\n",
    "\n",
    "plt.show()"
   ]
  },
  {
   "cell_type": "markdown",
   "metadata": {},
   "source": [
    "**TODO**\n",
    "- Figure out why there are so many null values in the mean price data and fix.\n",
    "- Show only mainland UK districts.\n",
    "- ~~Resize colorbar and display labels in £.~~\n",
    "- Decide optimal value range for colorbar. Extremes in data reduce colour variation so should be clipped.\n",
    "- ~~Add inset showing London~~\n",
    "- ~~Add labelled dots showing [UK top cities by population](http://www.citymayors.com/gratis/uk_topcities.html).~~\n",
    "- Add title indicating year in each plot.\n",
    "- Adjust house prices for inflation\n",
    "- Show house prices relative to median income for 30-35 year olds adjusted for inflation\n",
    "- Run for full dataset. Produce a single graph for each year using consistent colour normalisation."
   ]
  }
 ],
 "metadata": {
  "kernelspec": {
   "display_name": "Python 2",
   "language": "python",
   "name": "python2"
  },
  "language_info": {
   "codemirror_mode": {
    "name": "ipython",
    "version": 3
   },
   "file_extension": ".py",
   "mimetype": "text/x-python",
   "name": "python",
   "nbconvert_exporter": "python",
   "pygments_lexer": "ipython3",
   "version": "3.6.6"
  }
 },
 "nbformat": 4,
 "nbformat_minor": 2
}
